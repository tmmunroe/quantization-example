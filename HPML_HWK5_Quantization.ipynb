{
  "nbformat": 4,
  "nbformat_minor": 0,
  "metadata": {
    "colab": {
      "provenance": [],
      "include_colab_link": true
    },
    "kernelspec": {
      "name": "python3",
      "display_name": "Python 3"
    },
    "accelerator": "GPU",
    "gpuClass": "standard"
  },
  "cells": [
    {
      "cell_type": "markdown",
      "metadata": {
        "id": "view-in-github",
        "colab_type": "text"
      },
      "source": [
        "<a href=\"https://colab.research.google.com/github/tmmunroe/quantization-example/blob/main/HPML_HWK5_Quantization.ipynb\" target=\"_parent\"><img src=\"https://colab.research.google.com/assets/colab-badge.svg\" alt=\"Open In Colab\"/></a>"
      ]
    },
    {
      "cell_type": "markdown",
      "metadata": {
        "id": "zTvIwDlYvBzC"
      },
      "source": [
        "# Initial Setup\n",
        "\n",
        "Before beginning the assignment, we import the CIFAR dataset, and train a simple convolutional neural network (CNN) to classify it."
      ]
    },
    {
      "cell_type": "code",
      "metadata": {
        "id": "hbiiMcdNJI--"
      },
      "source": [
        "import torch\n",
        "import torchvision\n",
        "import torchvision.transforms as transforms\n",
        "import torch.nn as nn\n",
        "import torch.nn.functional as F\n",
        "import torch.optim as optim"
      ],
      "execution_count": 94,
      "outputs": []
    },
    {
      "cell_type": "markdown",
      "metadata": {
        "id": "FG3WW1Owq1Fh"
      },
      "source": [
        "**Reminder:** set the runtime type to \"GPU\", or your code will run much more slowly on a CPU."
      ]
    },
    {
      "cell_type": "code",
      "metadata": {
        "id": "A3RF5VmcoUMG",
        "colab": {
          "base_uri": "https://localhost:8080/"
        },
        "outputId": "72f115fe-1f7d-456e-c7f3-5298f36ab4a2"
      },
      "source": [
        "if torch.cuda.is_available():\n",
        "    device = torch.device('cuda')\n",
        "else:\n",
        "    device = torch.device('cpu')\n",
        "print(device)"
      ],
      "execution_count": 95,
      "outputs": [
        {
          "output_type": "stream",
          "name": "stdout",
          "text": [
            "cuda\n"
          ]
        }
      ]
    },
    {
      "cell_type": "markdown",
      "metadata": {
        "id": "nCaMDWYArEXO"
      },
      "source": [
        "Load training and test data from the CIFAR10 dataset."
      ]
    },
    {
      "cell_type": "code",
      "metadata": {
        "id": "_5UuOjjrnogR",
        "colab": {
          "base_uri": "https://localhost:8080/"
        },
        "outputId": "de779dc1-39c8-43d1-c822-7769e2334b04"
      },
      "source": [
        "transform = transforms.Compose(\n",
        "    [transforms.ToTensor(),\n",
        "     transforms.Normalize((0.5, 0.5, 0.5), (0.5, 0.5, 0.5))])\n",
        "\n",
        "trainset = torchvision.datasets.CIFAR10(root='./data', train=True,\n",
        "                                        download=True, transform=transform)\n",
        "trainloader = torch.utils.data.DataLoader(trainset, batch_size=4,\n",
        "                                          shuffle=True, num_workers=2)\n",
        "\n",
        "testset = torchvision.datasets.CIFAR10(root='./data', train=False,\n",
        "                                       download=True, transform=transform)\n",
        "testloader = torch.utils.data.DataLoader(testset, batch_size=4,\n",
        "                                         shuffle=False, num_workers=2)"
      ],
      "execution_count": 96,
      "outputs": [
        {
          "output_type": "stream",
          "name": "stdout",
          "text": [
            "Files already downloaded and verified\n",
            "Files already downloaded and verified\n"
          ]
        }
      ]
    },
    {
      "cell_type": "markdown",
      "metadata": {
        "id": "l62CkyIwtSOv"
      },
      "source": [
        "Define a simple CNN that classifies CIFAR images."
      ]
    },
    {
      "cell_type": "code",
      "metadata": {
        "id": "9fL3F-7Rntog"
      },
      "source": [
        "class Net(nn.Module):\n",
        "    def __init__(self):\n",
        "        super(Net, self).__init__()\n",
        "        self.conv1 = nn.Conv2d(3, 6, 5, bias=False)\n",
        "        self.pool = nn.MaxPool2d(2, 2)\n",
        "        self.conv2 = nn.Conv2d(6, 16, 5, bias=False)\n",
        "        self.fc1 = nn.Linear(16 * 5 * 5, 120, bias=False)\n",
        "        self.fc2 = nn.Linear(120, 84, bias=False)\n",
        "        self.fc3 = nn.Linear(84, 10, bias=False)\n",
        "\n",
        "    def forward(self, x: torch.Tensor) -> torch.Tensor:\n",
        "        x = self.pool(F.relu(self.conv1(x)))\n",
        "        x = self.pool(F.relu(self.conv2(x)))\n",
        "        x = x.view(-1, 16 * 5 * 5)\n",
        "        x = F.relu(self.fc1(x))\n",
        "        x = F.relu(self.fc2(x))\n",
        "        x = self.fc3(x)\n",
        "        return x\n",
        "\n",
        "net = Net().to(device)"
      ],
      "execution_count": 97,
      "outputs": []
    },
    {
      "cell_type": "markdown",
      "metadata": {
        "id": "Nijieuxptag6"
      },
      "source": [
        "Train this CNN on the training dataset (this may take a few moments)."
      ]
    },
    {
      "cell_type": "code",
      "metadata": {
        "id": "CzK6ohj5oNCT"
      },
      "source": [
        "from torch.utils.data import DataLoader\n",
        "\n",
        "def train(model: nn.Module, dataloader: DataLoader):\n",
        "    criterion = nn.CrossEntropyLoss()\n",
        "    optimizer = optim.SGD(model.parameters(), lr=0.001, momentum=0.9)\n",
        "\n",
        "    for epoch in range(2):  # loop over the dataset multiple times\n",
        "\n",
        "        running_loss = 0.0\n",
        "        for i, data in enumerate(dataloader, 0):\n",
        "            # get the inputs; data is a list of [inputs, labels]\n",
        "            inputs, labels = data\n",
        "\n",
        "            inputs = inputs.to(device)\n",
        "            labels = labels.to(device)\n",
        "\n",
        "            # zero the parameter gradients\n",
        "            optimizer.zero_grad()\n",
        "\n",
        "            # forward + backward + optimize\n",
        "            outputs = model(inputs)\n",
        "            loss = criterion(outputs, labels)\n",
        "            loss.backward()\n",
        "            optimizer.step()\n",
        "\n",
        "            # print statistics\n",
        "            running_loss += loss.item()\n",
        "            if i % 2000 == 1999:    # print every 2000 mini-batches\n",
        "                print('[%d, %5d] loss: %.3f' %\n",
        "                    (epoch + 1, i + 1, running_loss / 2000))\n",
        "                running_loss = 0.0\n",
        "\n",
        "    print('Finished Training')\n",
        "\n",
        "def test(model: nn.Module, dataloader: DataLoader, max_samples=None) -> float:\n",
        "    correct = 0\n",
        "    total = 0\n",
        "    n_inferences = 0\n",
        "\n",
        "    with torch.no_grad():\n",
        "        for data in dataloader:\n",
        "            images, labels = data\n",
        "\n",
        "            images = images.to(device)\n",
        "            labels = labels.to(device)\n",
        "\n",
        "            outputs = model(images)\n",
        "            _, predicted = torch.max(outputs.data, 1)\n",
        "            total += labels.size(0)\n",
        "            correct += (predicted == labels).sum().item()\n",
        "\n",
        "            if max_samples:\n",
        "                n_inferences += images.shape[0]\n",
        "                if n_inferences > max_samples:\n",
        "                    break\n",
        "    \n",
        "    return 100 * correct / total"
      ],
      "execution_count": 98,
      "outputs": []
    },
    {
      "cell_type": "code",
      "metadata": {
        "id": "HixhBHaqtmZU",
        "colab": {
          "base_uri": "https://localhost:8080/"
        },
        "outputId": "fa0d638a-fef2-4815-8c8f-88b901c90873"
      },
      "source": [
        "train(net, trainloader)"
      ],
      "execution_count": 99,
      "outputs": [
        {
          "output_type": "stream",
          "name": "stdout",
          "text": [
            "[1,  2000] loss: 2.255\n",
            "[1,  4000] loss: 1.939\n",
            "[1,  6000] loss: 1.726\n",
            "[1,  8000] loss: 1.632\n",
            "[1, 10000] loss: 1.590\n",
            "[1, 12000] loss: 1.503\n",
            "[2,  2000] loss: 1.463\n",
            "[2,  4000] loss: 1.393\n",
            "[2,  6000] loss: 1.373\n",
            "[2,  8000] loss: 1.367\n",
            "[2, 10000] loss: 1.362\n",
            "[2, 12000] loss: 1.336\n",
            "Finished Training\n"
          ]
        }
      ]
    },
    {
      "cell_type": "markdown",
      "metadata": {
        "id": "EJggxnCVuRxU"
      },
      "source": [
        "Now that the CNN has been trained, let's test it on our test dataset."
      ]
    },
    {
      "cell_type": "code",
      "metadata": {
        "id": "y27_n-djuEdz",
        "outputId": "7dbc9977-27f7-455f-900f-fdc827fb4928",
        "colab": {
          "base_uri": "https://localhost:8080/"
        }
      },
      "source": [
        "score = test(net, testloader)\n",
        "print('Accuracy of the network on the test images: {}%'.format(score))"
      ],
      "execution_count": 100,
      "outputs": [
        {
          "output_type": "stream",
          "name": "stdout",
          "text": [
            "Accuracy of the network on the test images: 49.98%\n"
          ]
        }
      ]
    },
    {
      "cell_type": "code",
      "metadata": {
        "id": "ZVWbC5YWT-MU"
      },
      "source": [
        "from copy import deepcopy\n",
        "\n",
        "# A convenience function which we use to copy CNNs\n",
        "def copy_model(model: nn.Module) -> nn.Module:\n",
        "    result = deepcopy(model)\n",
        "\n",
        "    # Copy over the extra metadata we've collected which copy.deepcopy doesn't capture\n",
        "    if hasattr(model, 'input_activations'):\n",
        "        result.input_activations = deepcopy(model.input_activations)\n",
        "\n",
        "    for result_layer, original_layer in zip(result.children(), model.children()):\n",
        "        if isinstance(result_layer, nn.Conv2d) or isinstance(result_layer, nn.Linear):\n",
        "            if hasattr(original_layer.weight, 'scale'):\n",
        "                result_layer.weight.scale = deepcopy(original_layer.weight.scale)\n",
        "            if hasattr(original_layer, 'activations'):\n",
        "                result_layer.activations = deepcopy(original_layer.activations)\n",
        "            if hasattr(original_layer, 'output_scale'):\n",
        "                result_layer.output_scale = deepcopy(original_layer.output_scale)\n",
        "\n",
        "    return result"
      ],
      "execution_count": 101,
      "outputs": []
    },
    {
      "cell_type": "markdown",
      "metadata": {
        "id": "SQZoEjBSveV8"
      },
      "source": [
        "# Question 1: Visualize Weights"
      ]
    },
    {
      "cell_type": "code",
      "metadata": {
        "id": "5qKRX7ply7I2"
      },
      "source": [
        "import matplotlib.pyplot as plt\n",
        "import numpy as np"
      ],
      "execution_count": 102,
      "outputs": []
    },
    {
      "cell_type": "code",
      "metadata": {
        "id": "N2h7zJ8m3GAF",
        "colab": {
          "base_uri": "https://localhost:8080/",
          "height": 1000
        },
        "outputId": "584bcfe7-1bdc-470c-effa-d316f1f964aa"
      },
      "source": [
        "# ADD YOUR CODE HERE to plot distributions of weights\n",
        "\n",
        "# You can get a flattened vector of the weights of fc1 like this:\n",
        "#   fc1_weights = net.fc1.weight.data.cpu().view(-1)\n",
        "# Try plotting a histogram of fc1_weights (and the weights of all the other layers as well)\n",
        "\n",
        "\n",
        "# A convenience function which we use to copy CNNs\n",
        "def plot_model_weights(model: nn.Module) -> nn.Module:\n",
        "    layer_count = len([c for c in model.children() if isinstance(c, (nn.Conv2d, nn.Linear))])\n",
        "    print(layer_count)\n",
        "\n",
        "    fig, axes = plt.subplots(nrows=layer_count, figsize=(3,10))\n",
        "    named_children = [(n, c) for n, c in model.named_children() if isinstance(c, (nn.Conv2d, nn.Linear))]\n",
        "    for (name, layer), ax in zip(named_children, axes):\n",
        "        print(name)\n",
        "        if not isinstance(layer, (nn.Conv2d, nn.Linear)):\n",
        "            continue\n",
        "        weights = layer.weight.data.cpu().view(-1)\n",
        "        ax.hist(\n",
        "            weights,\n",
        "            orientation='horizontal',\n",
        "            bins=20\n",
        "        )\n",
        "        ax.set_title(f'{name} - {str(layer)} Weights')\n",
        "    \n",
        "    fig.set_tight_layout(True)\n",
        "\n",
        "\n",
        "plot_model_weights(net)\n",
        "\n"
      ],
      "execution_count": 103,
      "outputs": [
        {
          "output_type": "stream",
          "name": "stdout",
          "text": [
            "5\n",
            "conv1\n",
            "conv2\n",
            "fc1\n",
            "fc2\n",
            "fc3\n"
          ]
        },
        {
          "output_type": "display_data",
          "data": {
            "text/plain": [
              "<Figure size 300x1000 with 5 Axes>"
            ],
            "image/png": "[encoded data removed]"
          },
          "metadata": {}
        }
      ]
    },
    {
      "cell_type": "markdown",
      "metadata": {
        "id": "2hKjshaHD11m"
      },
      "source": [
        "# Question 2: Quantize Weights"
      ]
    },
    {
      "cell_type": "code",
      "metadata": {
        "id": "qXNk1fXuPGjB"
      },
      "source": [
        "net_q2 = copy_model(net)"
      ],
      "execution_count": 104,
      "outputs": []
    },
    {
      "cell_type": "code",
      "metadata": {
        "id": "GIBrqSFrVi5x"
      },
      "source": [
        "from typing import Tuple\n",
        "\n",
        "def quantized_weights(weights: torch.Tensor) -> Tuple[torch.Tensor, float]:\n",
        "    '''\n",
        "    Quantize the weights so that all values are integers between -128 and 127.\n",
        "    You may want to use the total range, 3-sigma range, or some other range when\n",
        "    deciding just what factors to scale the float32 values by.\n",
        "\n",
        "    Parameters:\n",
        "    weights (Tensor): The unquantized weights\n",
        "\n",
        "    Returns:\n",
        "    (Tensor, float): A tuple with the following elements:\n",
        "                        * The weights in quantized form, where every value is an integer between -128 and 127.\n",
        "                          The \"dtype\" will still be \"float\", but the values themselves should all be integers.\n",
        "                        * The scaling factor that your weights were multiplied by.\n",
        "                          This value does not need to be an 8-bit integer.\n",
        "    '''\n",
        "\n",
        "    scale =  127.0 / weights.abs().max() # using restricted range rather than full range in order to preserve relative values of weights (avoid clipping positive values that would map to 128)\n",
        "    result = (weights * scale).round()\n",
        "    return torch.clamp(result, min=-128, max=127), scale"
      ],
      "execution_count": 105,
      "outputs": []
    },
    {
      "cell_type": "code",
      "metadata": {
        "id": "orOwTnXxU1nb"
      },
      "source": [
        "def quantize_layer_weights(model: nn.Module):\n",
        "    for layer in model.children():\n",
        "        if isinstance(layer, nn.Conv2d) or isinstance(layer, nn.Linear):\n",
        "            q_layer_data, scale = quantized_weights(layer.weight.data)\n",
        "            q_layer_data = q_layer_data.to(device)\n",
        "\n",
        "            layer.weight.data = q_layer_data\n",
        "            layer.weight.scale = scale\n",
        "\n",
        "            if (q_layer_data < -128).any() or (q_layer_data > 127).any():\n",
        "                raise Exception(\"Quantized weights of {} layer include values out of bounds for an 8-bit signed integer\".format(layer.__class__.__name__))\n",
        "            if (q_layer_data != q_layer_data.round()).any():\n",
        "                raise Exception(\"Quantized weights of {} layer include non-integer values\".format(layer.__class__.__name__))\n",
        "\n",
        "quantize_layer_weights(net_q2)"
      ],
      "execution_count": 106,
      "outputs": []
    },
    {
      "cell_type": "code",
      "metadata": {
        "id": "wE3HqeBKVoYR",
        "colab": {
          "base_uri": "https://localhost:8080/"
        },
        "outputId": "b4ee5228-3e34-4e6c-fc8f-4eb3f6392c99"
      },
      "source": [
        "score = test(net_q2, testloader)\n",
        "print('Accuracy of the network after quantizing all weights: {}%'.format(score))"
      ],
      "execution_count": 107,
      "outputs": [
        {
          "output_type": "stream",
          "name": "stdout",
          "text": [
            "Accuracy of the network after quantizing all weights: 49.87%\n"
          ]
        }
      ]
    },
    {
      "cell_type": "markdown",
      "metadata": {
        "id": "xg7bfTF1bBVe"
      },
      "source": [
        "# Question 3: Visualize Activations"
      ]
    },
    {
      "cell_type": "code",
      "metadata": {
        "id": "HP587b0QYxe9"
      },
      "source": [
        "def register_activation_profiling_hooks(model: Net):\n",
        "    model.input_activations = np.empty(0)\n",
        "    model.conv1.activations = np.empty(0)\n",
        "    model.conv2.activations = np.empty(0)\n",
        "    model.fc1.activations = np.empty(0)\n",
        "    model.fc2.activations = np.empty(0)\n",
        "    model.fc3.activations = np.empty(0)\n",
        "\n",
        "    model.profile_activations = True\n",
        "\n",
        "    # NOTE: these activations are all profiled by the next layer's forward hook, which\n",
        "    #  means they end up including any ops performed between the last layer's output and this layer's input \n",
        "    #  i.e. anything that was applied AFTER the previous layer was run.., including RELU, Pooling, etc..\n",
        "    #   this is different from what https://arxiv.org/pdf/1712.05877.pdf suggests to do\n",
        "    #   most notably, if we use the same clamping parameters for our activations (which are in the range [0...])\n",
        "    #   and assume there is only a scaling factor (no zeroing variable), then we only utilize half of the 8-bit\n",
        "    #   integer range for many layers\n",
        "    def conv1_activations_hook(layer, x, y):\n",
        "        if model.profile_activations:\n",
        "            model.input_activations = np.append(model.input_activations, x[0].cpu().view(-1))\n",
        "    model.conv1.register_forward_hook(conv1_activations_hook)\n",
        "\n",
        "    def conv2_activations_hook(layer, x, y):\n",
        "        if model.profile_activations:\n",
        "            model.conv1.activations = np.append(model.conv1.activations, x[0].cpu().view(-1))\n",
        "    model.conv2.register_forward_hook(conv2_activations_hook)\n",
        "\n",
        "    def fc1_activations_hook(layer, x, y):\n",
        "        if model.profile_activations:\n",
        "            model.conv2.activations = np.append(model.conv2.activations, x[0].cpu().view(-1))\n",
        "    model.fc1.register_forward_hook(fc1_activations_hook)\n",
        "\n",
        "    def fc2_activations_hook(layer, x, y):\n",
        "        if model.profile_activations:\n",
        "            model.fc1.activations = np.append(model.fc1.activations, x[0].cpu().view(-1))\n",
        "    model.fc2.register_forward_hook(fc2_activations_hook)\n",
        "\n",
        "    def fc3_activations_hook(layer, x, y):\n",
        "        if model.profile_activations:\n",
        "            model.fc2.activations = np.append(model.fc2.activations, x[0].cpu().view(-1))\n",
        "            model.fc3.activations = np.append(model.fc3.activations, y[0].cpu().view(-1))\n",
        "    model.fc3.register_forward_hook(fc3_activations_hook)\n"
      ],
      "execution_count": 108,
      "outputs": []
    },
    {
      "cell_type": "code",
      "metadata": {
        "id": "PVvPCIoabLC7"
      },
      "source": [
        "net_q3 = copy_model(net)\n",
        "register_activation_profiling_hooks(net_q3)\n",
        "\n",
        "# Run through the training dataset again while profiling the input and output activations this time\n",
        "# We don't actually have to perform gradient descent for this, so we can use the \"test\" function\n",
        "test(net_q3, trainloader, max_samples=400)\n",
        "net_q3.profile_activations = False"
      ],
      "execution_count": 109,
      "outputs": []
    },
    {
      "cell_type": "code",
      "metadata": {
        "id": "m1HnYsuAMoxP"
      },
      "source": [
        "input_activations = net_q3.input_activations\n",
        "conv1_output_activations = net_q3.conv1.activations\n",
        "conv2_output_activations = net_q3.conv2.activations\n",
        "fc1_output_activations = net_q3.fc1.activations\n",
        "fc2_output_activations = net_q3.fc2.activations\n",
        "fc3_output_activations = net_q3.fc3.activations"
      ],
      "execution_count": 110,
      "outputs": []
    },
    {
      "cell_type": "code",
      "metadata": {
        "id": "AEo8VK46bwjn",
        "colab": {
          "base_uri": "https://localhost:8080/",
          "height": 1000
        },
        "outputId": "d22af40d-8684-4961-a384-579a13af07d4"
      },
      "source": [
        "activations_all = [\n",
        "    ('input_activations', input_activations),\n",
        "    ('conv1_output_activations', conv1_output_activations),\n",
        "    ('conv2_output_activations', conv2_output_activations),\n",
        "    ('fc1_output_activations', fc1_output_activations),\n",
        "    ('fc2_output_activations', fc2_output_activations),\n",
        "    ('fc3_output_activations', fc3_output_activations),\n",
        "]\n",
        "\n",
        "fig, axes = plt.subplots(nrows=6, figsize=(3,12))\n",
        "def add_activations_plt(title, activations, ax):\n",
        "    ax.hist(\n",
        "        activations,\n",
        "        orientation='horizontal',\n",
        "        bins=20\n",
        "    )\n",
        "    ax.set_title(title)\n",
        "\n",
        "for (title, activations), ax in zip(activations_all, axes):\n",
        "    add_activations_plt(title, activations, ax)\n",
        "\n",
        "fig.set_tight_layout(True)\n",
        "\n",
        "\n",
        "# Plot histograms of the following variables, and calculate their ranges and 3-sigma ranges:\n",
        "#   input_activations\n",
        "#   conv1_output_activations\n",
        "#   conv2_output_activations\n",
        "#   fc1_output_activations\n",
        "#   fc2_output_activations\n",
        "#   fc3_output_activations\n"
      ],
      "execution_count": 111,
      "outputs": [
        {
          "output_type": "display_data",
          "data": {
            "text/plain": [
              "<Figure size 300x1200 with 6 Axes>"
            ],
            "image/png": "[encoded data removed]"
          },
          "metadata": {}
        }
      ]
    },
    {
      "cell_type": "code",
      "source": [
        "def is_3sigma_normal(mean_a, std_a, min_a, max_a):\n",
        "    lower = mean_a - (3*std_a)\n",
        "    upper = mean_a + (3*std_a)\n",
        "    return lower >= min_a and upper <= max_a\n",
        "    \n",
        "def print_3sigma_range(arr: np.ndarray):\n",
        "    min_a, max_a = arr.min(), arr.max()\n",
        "    mean_a, std_a = arr.mean(), arr.std()\n",
        "\n",
        "    ranges = []\n",
        "    dist_descriptor = None\n",
        "\n",
        "    # normal enough\n",
        "    ranges = [mean_a+i*std_a for i in range(-3, 4)]\n",
        "    print(f'3-Sigma Ranges (mean and std based): ')\n",
        "    sigma_bounds = ([lower, upper] for (lower,upper) in zip(reversed(ranges[0:3]), ranges[3:]))\n",
        "    for i, bounds in enumerate(sigma_bounds):\n",
        "        print(f'{i+1}-Sigma Range: {bounds}')\n",
        "    \n",
        "    # not normally distributed.. approximate 3-sigma with quantiles\n",
        "    ranges = list(np.quantile(activations,[0.01, 0.05, 0.32, 0.68, 0.95, 0.99]))\n",
        "    print(f'3-Sigma Ranges (quantile based): ')\n",
        "    sigma_bounds = ([lower, upper] for (lower,upper) in zip(reversed(ranges[0:3]), ranges[3:]))\n",
        "    for i, bounds in enumerate(sigma_bounds):\n",
        "        print(f'{i+1}-Sigma Range: {bounds}')\n",
        "\n",
        "\n",
        "for title, activations in activations_all:\n",
        "    print(title)\n",
        "    print(f'Range [{activations.min()}, {activations.max()}]')\n",
        "    print_3sigma_range(activations)\n",
        "    print()"
      ],
      "metadata": {
        "colab": {
          "base_uri": "https://localhost:8080/"
        },
        "id": "h02Czt1mlOC-",
        "outputId": "46b98d1b-14ac-4584-f436-b01048c2ca1e"
      },
      "execution_count": 112,
      "outputs": [
        {
          "output_type": "stream",
          "name": "stdout",
          "text": [
            "input_activations\n",
            "Range [-1.0, 1.0]\n",
            "3-Sigma Ranges (mean and std based): \n",
            "1-Sigma Range: [-0.5524344645762663, -0.0567852506361131]\n",
            "2-Sigma Range: [-1.0480836785164196, 0.4388639633040401]\n",
            "3-Sigma Range: [-1.5437328924565727, 0.9345131772441934]\n",
            "3-Sigma Ranges (quantile based): \n",
            "1-Sigma Range: [-0.34117645025253296, 0.17647063732147217]\n",
            "2-Sigma Range: [-0.8117647171020508, 0.8352941274642944]\n",
            "3-Sigma Range: [-0.9529411792755127, 0.9843137264251709]\n",
            "\n",
            "conv1_output_activations\n",
            "Range [0.0, 8.153975486755371]\n",
            "3-Sigma Ranges (mean and std based): \n",
            "1-Sigma Range: [-0.23944059717336985, 0.5457859280676027]\n",
            "2-Sigma Range: [-1.0246671224143424, 1.3310124533085754]\n",
            "3-Sigma Range: [-1.809893647655315, 2.116238978549548]\n",
            "3-Sigma Ranges (quantile based): \n",
            "1-Sigma Range: [0.0, 0.6141548061370853]\n",
            "2-Sigma Range: [0.0, 2.1657462120056152]\n",
            "3-Sigma Range: [0.0, 3.3879060316085763]\n",
            "\n",
            "conv2_output_activations\n",
            "Range [0.0, 11.547855377197266]\n",
            "3-Sigma Ranges (mean and std based): \n",
            "1-Sigma Range: [-0.44857893590416464, 0.5987974435640612]\n",
            "2-Sigma Range: [-1.4959553153723903, 1.6461738230322869]\n",
            "3-Sigma Range: [-2.5433316948406164, 2.693550202500513]\n",
            "3-Sigma Ranges (quantile based): \n",
            "1-Sigma Range: [0.0, 0.5205129289627075]\n",
            "2-Sigma Range: [0.0, 2.8288724303245525]\n",
            "3-Sigma Range: [0.0, 4.625983872413651]\n",
            "\n",
            "fc1_output_activations\n",
            "Range [0.0, 11.145975112915039]\n",
            "3-Sigma Ranges (mean and std based): \n",
            "1-Sigma Range: [-0.4977021019706337, 0.3930452845816611]\n",
            "2-Sigma Range: [-1.3884494885229284, 1.283792671133956]\n",
            "3-Sigma Range: [-2.279196875075223, 2.174540057686251]\n",
            "3-Sigma Ranges (quantile based): \n",
            "1-Sigma Range: [0.0, 0.014421135634184219]\n",
            "2-Sigma Range: [0.0, 2.2710958719253442]\n",
            "3-Sigma Range: [0.0, 4.197715711593628]\n",
            "\n",
            "fc2_output_activations\n",
            "Range [0.0, 6.465458869934082]\n",
            "3-Sigma Ranges (mean and std based): \n",
            "1-Sigma Range: [-0.28987471303658036, 0.3376149751538125]\n",
            "2-Sigma Range: [-0.9173644012269733, 0.9651046633442053]\n",
            "3-Sigma Range: [-1.5448540894173661, 1.5925943515345982]\n",
            "3-Sigma Ranges (quantile based): \n",
            "1-Sigma Range: [0.0, 0.24212027192115826]\n",
            "2-Sigma Range: [0.0, 1.6680844128131866]\n",
            "3-Sigma Range: [0.0, 2.8205060362815937]\n",
            "\n",
            "fc3_output_activations\n",
            "Range [-7.290633201599121, 13.480722427368164]\n",
            "3-Sigma Ranges (mean and std based): \n",
            "1-Sigma Range: [-2.2337705333964464, 0.059944996265878916]\n",
            "2-Sigma Range: [-4.527486063058771, 2.353660525928204]\n",
            "3-Sigma Range: [-6.8212015927210965, 4.64737605559053]\n",
            "3-Sigma Ranges (quantile based): \n",
            "1-Sigma Range: [-0.8997427606582642, 0.7097755837440491]\n",
            "2-Sigma Range: [-3.2913928627967834, 4.0404834032058705]\n",
            "3-Sigma Range: [-4.927478728294372, 6.493346529006957]\n",
            "\n"
          ]
        }
      ]
    },
    {
      "cell_type": "markdown",
      "metadata": {
        "id": "haiPVx4ibEra"
      },
      "source": [
        "# Question 4: Quantize Activations"
      ]
    },
    {
      "cell_type": "code",
      "metadata": {
        "id": "zLjSp7hsXofq"
      },
      "source": [
        "from typing import List\n",
        "\n",
        "class NetQuantized(nn.Module):\n",
        "    def __init__(self, net_with_weights_quantized: nn.Module):\n",
        "        super(NetQuantized, self).__init__()\n",
        "        \n",
        "        net_init = copy_model(net_with_weights_quantized)\n",
        "\n",
        "        self.conv1 = net_init.conv1\n",
        "        self.pool = net_init.pool\n",
        "        self.conv2 = net_init.conv2\n",
        "        self.fc1 = net_init.fc1\n",
        "        self.fc2 = net_init.fc2\n",
        "        self.fc3 = net_init.fc3\n",
        "\n",
        "        for layer in self.conv1, self.conv2, self.fc1, self.fc2, self.fc3:\n",
        "            def pre_hook(l, x):\n",
        "                x = x[0]\n",
        "                if (x < -128).any() or (x > 127).any():\n",
        "                    raise Exception(\"Input to {} layer is out of bounds for an 8-bit signed integer\".format(l.__class__.__name__))\n",
        "                if (x != x.round()).any():\n",
        "                    raise Exception(\"Input to {} layer has non-integer values\".format(l.__class__.__name__))\n",
        "\n",
        "            layer.register_forward_pre_hook(pre_hook)\n",
        "\n",
        "        # Calculate the scaling factor for the initial input to the CNN\n",
        "        self.input_activations = net_with_weights_quantized.input_activations\n",
        "        self.input_scale = NetQuantized.quantize_initial_input(self.input_activations)\n",
        "\n",
        "        # Calculate the output scaling factors for all the layers of the CNN\n",
        "        preceding_layer_scales = []\n",
        "        for layer in self.conv1, self.conv2, self.fc1, self.fc2, self.fc3:\n",
        "            layer.output_scale = NetQuantized.quantize_activations(layer.activations, layer.weight.scale, self.input_scale, preceding_layer_scales)\n",
        "            preceding_layer_scales.append((layer.weight.scale, layer.output_scale))\n",
        "\n",
        "    @staticmethod\n",
        "    def quantize_initial_input(pixels: np.ndarray) -> float:\n",
        "        '''\n",
        "        Calculate a scaling factor for the images that are input to the first layer of the CNN.\n",
        "\n",
        "        Parameters:\n",
        "        pixels (ndarray): The values of all the pixels which were part of the input image during training\n",
        "\n",
        "        Returns:\n",
        "        float: A scaling factor that the input should be multiplied by before being fed into the first layer.\n",
        "               This value does not need to be an 8-bit integer.\n",
        "        '''\n",
        "         # again, using restricted range rather than full range in order to preserve relative values of weights (avoid clipping positive values that would map to 128)\n",
        "        return 127.0 / np.abs(pixels).max()\n",
        "\n",
        "    @staticmethod\n",
        "    def quantize_activations(activations: np.ndarray, n_w: float, n_initial_input: float, ns: List[Tuple[float, float]]) -> float:\n",
        "        '''\n",
        "        Calculate a scaling factor to multiply the output of a layer by.\n",
        "\n",
        "        Parameters:\n",
        "        activations (ndarray): The values of all the pixels which have been output by this layer during training\n",
        "        n_w (float): The scale by which the weights of this layer were multiplied as part of the \"quantize_weights\" function you wrote earlier\n",
        "        n_initial_input (float): The scale by which the initial input to the neural network was multiplied\n",
        "        ns ([(float, float)]): A list of tuples, where each tuple represents the \"weight scale\" and \"output scale\" (in that order) for every preceding layer\n",
        "\n",
        "        Returns:\n",
        "        float: A scaling factor that the layer output should be multiplied by before being fed into the first layer.\n",
        "               This value does not need to be an 8-bit integer.\n",
        "        '''\n",
        "        # our scales (q=s*r) are inverted relative to what is in the paper (r=q*s), which gives\n",
        "        #  the scaling formula as:\n",
        "        # q3 = S3/(S1*S2) * (q1*q2), where\n",
        "        #  S1 - the scaling factor such that q1 = S1*r1\n",
        "        #  S2 - the scaling factor such that q2 = S2*r2\n",
        "        #  S3 - the scaling factor such that q3 = S3*r3\n",
        "        # M = S3/(S1*S2)\n",
        "\n",
        "        print_debug = False\n",
        "        # ADD YOUR CODE HERE\n",
        "        if print_debug:\n",
        "            print('quantize_activations')\n",
        "            print('n_w: ', n_w)\n",
        "            print('n_initial_input: ', n_initial_input)\n",
        "            print('ns: ', ns)\n",
        "            print('activations: ', activations.min(), activations.max())\n",
        "\n",
        "        s1 = n_w\n",
        "        s3 = 127.0/np.abs(activations).max()\n",
        "\n",
        "        # finally, we need to get the prior activation's scaler\n",
        "        #  which can be calculated from the input scaler and the weights/output scaler\n",
        "        #  from the prior layers\n",
        "        # M_k = S3_k / (S1_k * S2_k-1) = S3_k / (S1_k * S2_input * prod( M_i*S1_i for i from 1 to k-1))\n",
        "        #  and converted to our terms,\n",
        "        # output_scale_k = activations_scale_k / (weights_scale_k * activations_scale_k-1)\n",
        "        #    = activations_scale_k / (weights_scale_k * activations_scale_input * prod(weights_scale_i*output_scale_i for i from 1 to k-1)) \n",
        "        # so, S2_k-1 = activations_scale_input * prod(weights_scale_i*output_scale_i for i from 1 to k-1))\n",
        "        \n",
        "        s2 = n_initial_input * torch.prod(torch.tensor([w_scale*o_scale for w_scale,o_scale in ns]))\n",
        "\n",
        "        output_scale = s3 / (s1*s2)\n",
        "        if True: # make sure we will reproduce S3 as the next layer's S2 value.. this is trivial, but for a sanity check, do it\n",
        "            tol = 1e-4\n",
        "            sim_next_s2 = output_scale * s1 * s2\n",
        "            if abs(sim_next_s2-s3) > tol:\n",
        "                raise ValueError(f'expected sim_next_s2 ({sim_next_s2}) to be close to this layers s3 ({s3})')\n",
        "\n",
        "        if print_debug:\n",
        "            print(f'output_scale = activations_scale / (weights_scale * previous_activations_scale) = {s3} / ({s1} * {s2}) = {output_scale}')\n",
        "\n",
        "        return output_scale\n",
        "\n",
        "    @staticmethod\n",
        "    def scale_round_and_clamp(x: torch.Tensor, scale, lower_bound, upper_bound) -> torch.Tensor:\n",
        "        x = (x*scale).round()\n",
        "        x = torch.clamp(x, min=lower_bound, max=upper_bound)\n",
        "        return x\n",
        "\n",
        "    def forward(self, x: torch.Tensor) -> torch.Tensor:\n",
        "        # NOTE: see NOTE in the function register_activation_profiling_hooks for \n",
        "        #  more detail about when to apply scales based on when the activations are being\n",
        "        #  profiled\n",
        "\n",
        "        # You can access the output activation scales like this:\n",
        "        #   fc1_output_scale = self.fc1.output_scale\n",
        "\n",
        "        # To make sure that the outputs of each layer are integers between -128 and 127, you may need to use the following functions:\n",
        "        #   * torch.Tensor.round\n",
        "        #   * torch.clamp\n",
        "        lower_bound, upper_bound = -128, 127\n",
        "        x = NetQuantized.scale_round_and_clamp(x, self.input_scale, lower_bound, upper_bound)\n",
        "\n",
        "        # conv1\n",
        "        x = self.pool(F.relu(self.conv1(x)))\n",
        "        x = NetQuantized.scale_round_and_clamp(x, self.conv1.output_scale, lower_bound, upper_bound)\n",
        "        \n",
        "        # conv2\n",
        "        x = self.pool(F.relu(self.conv2(x)))\n",
        "        x = NetQuantized.scale_round_and_clamp(x, self.conv2.output_scale, lower_bound, upper_bound)\n",
        "        \n",
        "        # fc1\n",
        "        x = x.view(-1, 16 * 5 * 5)\n",
        "        x = F.relu(self.fc1(x))\n",
        "        x = NetQuantized.scale_round_and_clamp(x, self.fc1.output_scale, lower_bound, upper_bound)\n",
        "\n",
        "        # fc2\n",
        "        x = F.relu(self.fc2(x))\n",
        "        x = NetQuantized.scale_round_and_clamp(x, self.fc2.output_scale, lower_bound, upper_bound)\n",
        "\n",
        "        # fc3\n",
        "        x = self.fc3(x)\n",
        "        x = NetQuantized.scale_round_and_clamp(x, self.fc3.output_scale, lower_bound, upper_bound)\n",
        "\n",
        "        return x"
      ],
      "execution_count": 113,
      "outputs": []
    },
    {
      "cell_type": "code",
      "metadata": {
        "id": "13CpHgvE994J"
      },
      "source": [
        "# Merge the information from net_q2 and net_q3 together\n",
        "net_init = copy_model(net_q2)\n",
        "net_init.input_activations = deepcopy(net_q3.input_activations)\n",
        "for layer_init, layer_q3 in zip(net_init.children(), net_q3.children()):\n",
        "    if isinstance(layer_init, nn.Conv2d) or isinstance(layer_init, nn.Linear):\n",
        "        layer_init.activations = deepcopy(layer_q3.activations)\n",
        "\n",
        "net_quantized = NetQuantized(net_init)"
      ],
      "execution_count": 114,
      "outputs": []
    },
    {
      "cell_type": "code",
      "metadata": {
        "id": "VcBXEodN6hrY",
        "colab": {
          "base_uri": "https://localhost:8080/"
        },
        "outputId": "bd5251c2-dce8-4fe4-dd19-17a32729660c"
      },
      "source": [
        "score = test(net_quantized, testloader)\n",
        "print('Accuracy of the network after quantizing both weights and activations: {}%'.format(score))"
      ],
      "execution_count": 115,
      "outputs": [
        {
          "output_type": "stream",
          "name": "stdout",
          "text": [
            "Accuracy of the network after quantizing both weights and activations: 50.02%\n"
          ]
        }
      ]
    },
    {
      "cell_type": "markdown",
      "metadata": {
        "id": "1jTOL7scbMs7"
      },
      "source": [
        "# Question 5: Quantize Biases"
      ]
    },
    {
      "cell_type": "code",
      "metadata": {
        "id": "bvv9-k1HPbgz"
      },
      "source": [
        "class NetWithBias(nn.Module):\n",
        "    def __init__(self):\n",
        "        super(NetWithBias, self).__init__()\n",
        "\n",
        "        self.conv1 = nn.Conv2d(3, 6, 5, bias=False)\n",
        "        self.pool = nn.MaxPool2d(2, 2)\n",
        "        self.conv2 = nn.Conv2d(6, 16, 5, bias=False)\n",
        "        self.fc1 = nn.Linear(16 * 5 * 5, 120, bias=False)\n",
        "        self.fc2 = nn.Linear(120, 84, bias=False)\n",
        "        self.fc3 = nn.Linear(84, 10, bias=True)\n",
        "\n",
        "    def forward(self, x: torch.Tensor) -> torch.Tensor:\n",
        "        x = self.pool(F.relu(self.conv1(x)))\n",
        "        x = self.pool(F.relu(self.conv2(x)))\n",
        "        x = x.view(-1, 16 * 5 * 5)\n",
        "        x = F.relu(self.fc1(x))\n",
        "        x = F.relu(self.fc2(x))\n",
        "        x = self.fc3(x)\n",
        "        return x\n",
        "\n",
        "net_with_bias = NetWithBias().to(device)"
      ],
      "execution_count": 116,
      "outputs": []
    },
    {
      "cell_type": "code",
      "metadata": {
        "id": "wjk3hEQaVDpq",
        "colab": {
          "base_uri": "https://localhost:8080/"
        },
        "outputId": "8d888f4e-9a8e-43d4-dff8-82eff1e63a92"
      },
      "source": [
        "train(net_with_bias, trainloader)"
      ],
      "execution_count": 117,
      "outputs": [
        {
          "output_type": "stream",
          "name": "stdout",
          "text": [
            "[1,  2000] loss: 2.248\n",
            "[1,  4000] loss: 1.960\n",
            "[1,  6000] loss: 1.739\n",
            "[1,  8000] loss: 1.627\n",
            "[1, 10000] loss: 1.575\n",
            "[1, 12000] loss: 1.499\n",
            "[2,  2000] loss: 1.454\n",
            "[2,  4000] loss: 1.382\n",
            "[2,  6000] loss: 1.390\n",
            "[2,  8000] loss: 1.355\n",
            "[2, 10000] loss: 1.322\n",
            "[2, 12000] loss: 1.331\n",
            "Finished Training\n"
          ]
        }
      ]
    },
    {
      "cell_type": "code",
      "metadata": {
        "id": "9vLUCDnnVf4R",
        "colab": {
          "base_uri": "https://localhost:8080/"
        },
        "outputId": "759bfbf0-f92c-41b2-d53e-a9270cf1cc70"
      },
      "source": [
        "score = test(net_with_bias, testloader)\n",
        "print('Accuracy of the network (with a bias) on the test images: {}%'.format(score))"
      ],
      "execution_count": 118,
      "outputs": [
        {
          "output_type": "stream",
          "name": "stdout",
          "text": [
            "Accuracy of the network (with a bias) on the test images: 54.35%\n"
          ]
        }
      ]
    },
    {
      "cell_type": "code",
      "metadata": {
        "id": "U_ZiJk6yEEM-"
      },
      "source": [
        "register_activation_profiling_hooks(net_with_bias)\n",
        "test(net_with_bias, trainloader, max_samples=400)\n",
        "net_with_bias.profile_activations = False"
      ],
      "execution_count": 119,
      "outputs": []
    },
    {
      "cell_type": "code",
      "metadata": {
        "id": "yZwk8KLtAUAM",
        "colab": {
          "base_uri": "https://localhost:8080/"
        },
        "outputId": "469275cd-1f48-4987-dd3f-04f3f196223d"
      },
      "source": [
        "net_with_bias_with_quantized_weights = copy_model(net_with_bias)\n",
        "quantize_layer_weights(net_with_bias_with_quantized_weights)\n",
        "\n",
        "score = test(net_with_bias_with_quantized_weights, testloader)\n",
        "print('Accuracy of the network on the test images after all the weights are quantized but the bias isn\\'t: {}%'.format(score))"
      ],
      "execution_count": 120,
      "outputs": [
        {
          "output_type": "stream",
          "name": "stdout",
          "text": [
            "Accuracy of the network on the test images after all the weights are quantized but the bias isn't: 50.53%\n"
          ]
        }
      ]
    },
    {
      "cell_type": "code",
      "metadata": {
        "id": "mO2Gdu_tEZ4v"
      },
      "source": [
        "class NetQuantizedWithBias(NetQuantized):\n",
        "    def __init__(self, net_with_weights_quantized: nn.Module):\n",
        "        super(NetQuantizedWithBias, self).__init__(net_with_weights_quantized)\n",
        "\n",
        "        preceding_scales = [(layer.weight.scale, layer.output_scale) for layer in self.children() if isinstance(layer, nn.Conv2d) or isinstance(layer, nn.Linear)][:-1]\n",
        "\n",
        "        self.fc3.bias.data = NetQuantizedWithBias.quantized_bias(\n",
        "            self.fc3.bias.data,\n",
        "            self.fc3.weight.scale,\n",
        "            self.input_scale,\n",
        "            preceding_scales\n",
        "        )\n",
        "\n",
        "        if (self.fc3.bias.data < -2147483648).any() or (self.fc3.bias.data > 2147483647).any():\n",
        "            raise Exception(\"Bias has values which are out of bounds for an 32-bit signed integer\")\n",
        "        if (self.fc3.bias.data != self.fc3.bias.data.round()).any():\n",
        "            raise Exception(\"Bias has non-integer values\")\n",
        "\n",
        "    @staticmethod\n",
        "    def quantized_bias(bias: torch.Tensor, n_w: float, n_initial_input: float, ns: List[Tuple[float, float]]) -> torch.Tensor:\n",
        "        '''\n",
        "        Quantize the bias so that all values are integers between -2147483648 and 2147483647.\n",
        "\n",
        "        Parameters:\n",
        "        bias (Tensor): The floating point values of the bias\n",
        "        n_w (float): The scale by which the weights of this layer were multiplied\n",
        "        n_initial_input (float): The scale by which the initial input to the neural network was multiplied\n",
        "        ns ([(float, float)]): A list of tuples, where each tuple represents the \"weight scale\" and \"output scale\" (in that order) for every preceding layer\n",
        "\n",
        "        Returns:\n",
        "        Tensor: The bias in quantized form, where every value is an integer between -2147483648 and 2147483647.\n",
        "                The \"dtype\" will still be \"float\", but the values themselves should all be integers.\n",
        "        '''\n",
        "        # the scale for bias should match the scale used for the matrix multiplication of\n",
        "        #  the weights and the input activations\n",
        "        #  since our weights are inverses (see notes in function to calculate activation weights),\n",
        "        #  \n",
        "        # \n",
        "        #  to get the scaling from the matrix multiplication of the weights and the input activations,\n",
        "        #    we can use our formula for the output scale M = S3/(S1*S2), where we know 1/(S1*S2)\n",
        "        #    represents our scale for the matrix multiplication alone.\n",
        "        #  so our scale to get from quantized numbers to real numbers would be 1/(S1*S2)\n",
        "        #    and our scale to get from real numbers to quantized numbers will be S1*S2\n",
        "        #  in our terms, weights_scale*previous_activations_scale\n",
        "        #  so we need to calculate previous_activations_scale, as we did in the process of calculating output scales\n",
        "        full_range = 2^32\n",
        "        lower_bound, upper_bound = -full_range/2, (full_range/2) - 1\n",
        "        print_debug = False\n",
        "        previous_activations_scale = n_initial_input * torch.prod(torch.tensor([w_scale*o_scale for w_scale,o_scale in ns]))\n",
        "        bias_scale = n_w * previous_activations_scale\n",
        "        if print_debug:\n",
        "            print('lower_bound and upper_bound for clamp: ', lower_bound, upper_bound)\n",
        "            print('previous_activations_scale: ', previous_activations_scale)\n",
        "            print('weights_scale: ', n_w)\n",
        "            print('bias_scale: ', bias_scale)\n",
        "        q_bias = NetQuantizedWithBias.scale_round_and_clamp(bias, bias_scale, lower_bound, upper_bound)\n",
        "        \n",
        "        return q_bias"
      ],
      "execution_count": 121,
      "outputs": []
    },
    {
      "cell_type": "code",
      "metadata": {
        "id": "TA6rXt3Q-zF8"
      },
      "source": [
        "net_quantized_with_bias = NetQuantizedWithBias(net_with_bias_with_quantized_weights)"
      ],
      "execution_count": 122,
      "outputs": []
    },
    {
      "cell_type": "code",
      "metadata": {
        "id": "UJvR6Wv_GJJX",
        "colab": {
          "base_uri": "https://localhost:8080/"
        },
        "outputId": "222ca2ad-0224-45b9-dbec-915ab5e7668a"
      },
      "source": [
        "score = test(net_quantized_with_bias, testloader)\n",
        "print('Accuracy of the network on the test images after all the weights and the bias are quantized: {}%'.format(score))"
      ],
      "execution_count": 123,
      "outputs": [
        {
          "output_type": "stream",
          "name": "stdout",
          "text": [
            "Accuracy of the network on the test images after all the weights and the bias are quantized: 50.72%\n"
          ]
        }
      ]
    }
  ]
}