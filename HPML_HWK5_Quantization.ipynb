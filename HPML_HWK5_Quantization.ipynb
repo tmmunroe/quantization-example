{
  "nbformat": 4,
  "nbformat_minor": 0,
  "metadata": {
    "colab": {
      "provenance": [],
      "include_colab_link": true
    },
    "kernelspec": {
      "name": "python3",
      "display_name": "Python 3"
    },
    "accelerator": "GPU",
    "gpuClass": "standard"
  },
  "cells": [
    {
      "cell_type": "markdown",
      "metadata": {
        "id": "view-in-github",
        "colab_type": "text"
      },
      "source": [
        "<a href=\"https://colab.research.google.com/github/tmmunroe/quantization-example/blob/main/HPML_HWK5_Quantization.ipynb\" target=\"_parent\"><img src=\"https://colab.research.google.com/assets/colab-badge.svg\" alt=\"Open In Colab\"/></a>"
      ]
    },
    {
      "cell_type": "markdown",
      "metadata": {
        "id": "zTvIwDlYvBzC"
      },
      "source": [
        "# Initial Setup\n",
        "\n",
        "Before beginning the assignment, we import the CIFAR dataset, and train a simple convolutional neural network (CNN) to classify it."
      ]
    },
    {
      "cell_type": "code",
      "metadata": {
        "id": "hbiiMcdNJI--"
      },
      "source": [
        "import torch\n",
        "import torchvision\n",
        "import torchvision.transforms as transforms\n",
        "import torch.nn as nn\n",
        "import torch.nn.functional as F\n",
        "import torch.optim as optim"
      ],
      "execution_count": 31,
      "outputs": []
    },
    {
      "cell_type": "markdown",
      "metadata": {
        "id": "FG3WW1Owq1Fh"
      },
      "source": [
        "**Reminder:** set the runtime type to \"GPU\", or your code will run much more slowly on a CPU."
      ]
    },
    {
      "cell_type": "code",
      "metadata": {
        "id": "A3RF5VmcoUMG",
        "colab": {
          "base_uri": "https://localhost:8080/"
        },
        "outputId": "57bb0ca1-f093-48d8-9f40-f3c56db426df"
      },
      "source": [
        "if torch.cuda.is_available():\n",
        "    device = torch.device('cuda')\n",
        "else:\n",
        "    device = torch.device('cpu')\n",
        "print(device)"
      ],
      "execution_count": 32,
      "outputs": [
        {
          "output_type": "stream",
          "name": "stdout",
          "text": [
            "cuda\n"
          ]
        }
      ]
    },
    {
      "cell_type": "markdown",
      "metadata": {
        "id": "nCaMDWYArEXO"
      },
      "source": [
        "Load training and test data from the CIFAR10 dataset."
      ]
    },
    {
      "cell_type": "code",
      "metadata": {
        "id": "_5UuOjjrnogR",
        "colab": {
          "base_uri": "https://localhost:8080/"
        },
        "outputId": "77ec0216-f7db-4909-e9be-b65ae53a7cda"
      },
      "source": [
        "transform = transforms.Compose(\n",
        "    [transforms.ToTensor(),\n",
        "     transforms.Normalize((0.5, 0.5, 0.5), (0.5, 0.5, 0.5))])\n",
        "\n",
        "trainset = torchvision.datasets.CIFAR10(root='./data', train=True,\n",
        "                                        download=True, transform=transform)\n",
        "trainloader = torch.utils.data.DataLoader(trainset, batch_size=4,\n",
        "                                          shuffle=True, num_workers=2)\n",
        "\n",
        "testset = torchvision.datasets.CIFAR10(root='./data', train=False,\n",
        "                                       download=True, transform=transform)\n",
        "testloader = torch.utils.data.DataLoader(testset, batch_size=4,\n",
        "                                         shuffle=False, num_workers=2)"
      ],
      "execution_count": 33,
      "outputs": [
        {
          "output_type": "stream",
          "name": "stdout",
          "text": [
            "Files already downloaded and verified\n",
            "Files already downloaded and verified\n"
          ]
        }
      ]
    },
    {
      "cell_type": "markdown",
      "metadata": {
        "id": "l62CkyIwtSOv"
      },
      "source": [
        "Define a simple CNN that classifies CIFAR images."
      ]
    },
    {
      "cell_type": "code",
      "metadata": {
        "id": "9fL3F-7Rntog"
      },
      "source": [
        "class Net(nn.Module):\n",
        "    def __init__(self):\n",
        "        super(Net, self).__init__()\n",
        "        self.conv1 = nn.Conv2d(3, 6, 5, bias=False)\n",
        "        self.pool = nn.MaxPool2d(2, 2)\n",
        "        self.conv2 = nn.Conv2d(6, 16, 5, bias=False)\n",
        "        self.fc1 = nn.Linear(16 * 5 * 5, 120, bias=False)\n",
        "        self.fc2 = nn.Linear(120, 84, bias=False)\n",
        "        self.fc3 = nn.Linear(84, 10, bias=False)\n",
        "\n",
        "    def forward(self, x: torch.Tensor) -> torch.Tensor:\n",
        "        x = self.pool(F.relu(self.conv1(x)))\n",
        "        x = self.pool(F.relu(self.conv2(x)))\n",
        "        x = x.view(-1, 16 * 5 * 5)\n",
        "        x = F.relu(self.fc1(x))\n",
        "        x = F.relu(self.fc2(x))\n",
        "        x = self.fc3(x)\n",
        "        return x\n",
        "\n",
        "net = Net().to(device)"
      ],
      "execution_count": 34,
      "outputs": []
    },
    {
      "cell_type": "markdown",
      "metadata": {
        "id": "Nijieuxptag6"
      },
      "source": [
        "Train this CNN on the training dataset (this may take a few moments)."
      ]
    },
    {
      "cell_type": "code",
      "metadata": {
        "id": "CzK6ohj5oNCT"
      },
      "source": [
        "from torch.utils.data import DataLoader\n",
        "\n",
        "def train(model: nn.Module, dataloader: DataLoader):\n",
        "    criterion = nn.CrossEntropyLoss()\n",
        "    optimizer = optim.SGD(model.parameters(), lr=0.001, momentum=0.9)\n",
        "\n",
        "    for epoch in range(2):  # loop over the dataset multiple times\n",
        "\n",
        "        running_loss = 0.0\n",
        "        for i, data in enumerate(dataloader, 0):\n",
        "            # get the inputs; data is a list of [inputs, labels]\n",
        "            inputs, labels = data\n",
        "\n",
        "            inputs = inputs.to(device)\n",
        "            labels = labels.to(device)\n",
        "\n",
        "            # zero the parameter gradients\n",
        "            optimizer.zero_grad()\n",
        "\n",
        "            # forward + backward + optimize\n",
        "            outputs = model(inputs)\n",
        "            loss = criterion(outputs, labels)\n",
        "            loss.backward()\n",
        "            optimizer.step()\n",
        "\n",
        "            # print statistics\n",
        "            running_loss += loss.item()\n",
        "            if i % 2000 == 1999:    # print every 2000 mini-batches\n",
        "                print('[%d, %5d] loss: %.3f' %\n",
        "                    (epoch + 1, i + 1, running_loss / 2000))\n",
        "                running_loss = 0.0\n",
        "\n",
        "    print('Finished Training')\n",
        "\n",
        "def test(model: nn.Module, dataloader: DataLoader, max_samples=None) -> float:\n",
        "    correct = 0\n",
        "    total = 0\n",
        "    n_inferences = 0\n",
        "\n",
        "    with torch.no_grad():\n",
        "        for data in dataloader:\n",
        "            images, labels = data\n",
        "\n",
        "            images = images.to(device)\n",
        "            labels = labels.to(device)\n",
        "\n",
        "            outputs = model(images)\n",
        "            _, predicted = torch.max(outputs.data, 1)\n",
        "            total += labels.size(0)\n",
        "            correct += (predicted == labels).sum().item()\n",
        "\n",
        "            if max_samples:\n",
        "                n_inferences += images.shape[0]\n",
        "                if n_inferences > max_samples:\n",
        "                    break\n",
        "    \n",
        "    return 100 * correct / total"
      ],
      "execution_count": 35,
      "outputs": []
    },
    {
      "cell_type": "code",
      "metadata": {
        "id": "HixhBHaqtmZU",
        "colab": {
          "base_uri": "https://localhost:8080/"
        },
        "outputId": "229eb9b7-a6c0-45ab-d26c-23eea385b52d"
      },
      "source": [
        "train(net, trainloader)"
      ],
      "execution_count": 36,
      "outputs": [
        {
          "output_type": "stream",
          "name": "stdout",
          "text": [
            "[1,  2000] loss: 2.170\n",
            "[1,  4000] loss: 1.875\n",
            "[1,  6000] loss: 1.697\n",
            "[1,  8000] loss: 1.615\n",
            "[1, 10000] loss: 1.547\n",
            "[1, 12000] loss: 1.509\n",
            "[2,  2000] loss: 1.453\n",
            "[2,  4000] loss: 1.419\n",
            "[2,  6000] loss: 1.379\n",
            "[2,  8000] loss: 1.364\n",
            "[2, 10000] loss: 1.351\n",
            "[2, 12000] loss: 1.307\n",
            "Finished Training\n"
          ]
        }
      ]
    },
    {
      "cell_type": "markdown",
      "metadata": {
        "id": "EJggxnCVuRxU"
      },
      "source": [
        "Now that the CNN has been trained, let's test it on our test dataset."
      ]
    },
    {
      "cell_type": "code",
      "metadata": {
        "id": "y27_n-djuEdz",
        "outputId": "6086f433-b73b-46df-83ad-002392cae508",
        "colab": {
          "base_uri": "https://localhost:8080/"
        }
      },
      "source": [
        "score = test(net, testloader)\n",
        "print('Accuracy of the network on the test images: {}%'.format(score))"
      ],
      "execution_count": 37,
      "outputs": [
        {
          "output_type": "stream",
          "name": "stdout",
          "text": [
            "Accuracy of the network on the test images: 51.95%\n"
          ]
        }
      ]
    },
    {
      "cell_type": "code",
      "metadata": {
        "id": "ZVWbC5YWT-MU"
      },
      "source": [
        "from copy import deepcopy\n",
        "\n",
        "# A convenience function which we use to copy CNNs\n",
        "def copy_model(model: nn.Module) -> nn.Module:\n",
        "    result = deepcopy(model)\n",
        "\n",
        "    # Copy over the extra metadata we've collected which copy.deepcopy doesn't capture\n",
        "    if hasattr(model, 'input_activations'):\n",
        "        result.input_activations = deepcopy(model.input_activations)\n",
        "\n",
        "    for result_layer, original_layer in zip(result.children(), model.children()):\n",
        "        if isinstance(result_layer, nn.Conv2d) or isinstance(result_layer, nn.Linear):\n",
        "            if hasattr(original_layer.weight, 'scale'):\n",
        "                result_layer.weight.scale = deepcopy(original_layer.weight.scale)\n",
        "            if hasattr(original_layer, 'activations'):\n",
        "                result_layer.activations = deepcopy(original_layer.activations)\n",
        "            if hasattr(original_layer, 'output_scale'):\n",
        "                result_layer.output_scale = deepcopy(original_layer.output_scale)\n",
        "\n",
        "    return result"
      ],
      "execution_count": 38,
      "outputs": []
    },
    {
      "cell_type": "markdown",
      "metadata": {
        "id": "SQZoEjBSveV8"
      },
      "source": [
        "# Question 1: Visualize Weights"
      ]
    },
    {
      "cell_type": "code",
      "metadata": {
        "id": "5qKRX7ply7I2"
      },
      "source": [
        "import matplotlib.pyplot as plt\n",
        "import numpy as np"
      ],
      "execution_count": 39,
      "outputs": []
    },
    {
      "cell_type": "code",
      "metadata": {
        "id": "N2h7zJ8m3GAF",
        "colab": {
          "base_uri": "https://localhost:8080/",
          "height": 1000
        },
        "outputId": "e5947ebb-f9ad-4f0e-eddf-e02fc6ce2984"
      },
      "source": [
        "# ADD YOUR CODE HERE to plot distributions of weights\n",
        "\n",
        "# You can get a flattened vector of the weights of fc1 like this:\n",
        "#   fc1_weights = net.fc1.weight.data.cpu().view(-1)\n",
        "# Try plotting a histogram of fc1_weights (and the weights of all the other layers as well)\n",
        "\n",
        "\n",
        "# A convenience function which we use to copy CNNs\n",
        "def plot_model_weights(model: nn.Module) -> nn.Module:\n",
        "    layer_count = len([c for c in model.children() if isinstance(c, (nn.Conv2d, nn.Linear))])\n",
        "    print(layer_count)\n",
        "\n",
        "    fig, axes = plt.subplots(nrows=layer_count, figsize=(3,10))\n",
        "    named_children = [(n, c) for n, c in model.named_children() if isinstance(c, (nn.Conv2d, nn.Linear))]\n",
        "    for (name, layer), ax in zip(named_children, axes):\n",
        "        print(name)\n",
        "        if not isinstance(layer, (nn.Conv2d, nn.Linear)):\n",
        "            continue\n",
        "        weights = layer.weight.data.cpu().view(-1)\n",
        "        ax.hist(\n",
        "            weights,\n",
        "            orientation='horizontal',\n",
        "            bins=20\n",
        "        )\n",
        "        ax.set_title(f'{name} - {str(layer)} Weights')\n",
        "    \n",
        "    fig.set_tight_layout(True)\n",
        "\n",
        "\n",
        "plot_model_weights(net)\n",
        "\n"
      ],
      "execution_count": 40,
      "outputs": [
        {
          "output_type": "stream",
          "name": "stdout",
          "text": [
            "5\n",
            "conv1\n",
            "conv2\n",
            "fc1\n",
            "fc2\n",
            "fc3\n"
          ]
        },
        {
          "output_type": "display_data",
          "data": {
            "text/plain": [
              "<Figure size 300x1000 with 5 Axes>"
            ],
            "image/png": "[encoded data removed]"
          },
          "metadata": {}
        }
      ]
    },
    {
      "cell_type": "markdown",
      "metadata": {
        "id": "2hKjshaHD11m"
      },
      "source": [
        "# Question 2: Quantize Weights"
      ]
    },
    {
      "cell_type": "code",
      "metadata": {
        "id": "qXNk1fXuPGjB"
      },
      "source": [
        "net_q2 = copy_model(net)"
      ],
      "execution_count": 41,
      "outputs": []
    },
    {
      "cell_type": "code",
      "metadata": {
        "id": "GIBrqSFrVi5x"
      },
      "source": [
        "from typing import Tuple\n",
        "\n",
        "def quantized_weights(weights: torch.Tensor) -> Tuple[torch.Tensor, float]:\n",
        "    '''\n",
        "    Quantize the weights so that all values are integers between -128 and 127.\n",
        "    You may want to use the total range, 3-sigma range, or some other range when\n",
        "    deciding just what factors to scale the float32 values by.\n",
        "\n",
        "    Parameters:\n",
        "    weights (Tensor): The unquantized weights\n",
        "\n",
        "    Returns:\n",
        "    (Tensor, float): A tuple with the following elements:\n",
        "                        * The weights in quantized form, where every value is an integer between -128 and 127.\n",
        "                          The \"dtype\" will still be \"float\", but the values themselves should all be integers.\n",
        "                        * The scaling factor that your weights were multiplied by.\n",
        "                          This value does not need to be an 8-bit integer.\n",
        "    '''\n",
        "\n",
        "    scale =  127.0 / weights.abs().max() # using restricted range rather than full range in order to preserve relative values of weights (avoid clipping positive values that would map to 128)\n",
        "    result = (weights * scale).round()\n",
        "    return torch.clamp(result, min=-128, max=127), scale"
      ],
      "execution_count": 42,
      "outputs": []
    },
    {
      "cell_type": "code",
      "metadata": {
        "id": "orOwTnXxU1nb"
      },
      "source": [
        "def quantize_layer_weights(model: nn.Module):\n",
        "    for layer in model.children():\n",
        "        if isinstance(layer, nn.Conv2d) or isinstance(layer, nn.Linear):\n",
        "            q_layer_data, scale = quantized_weights(layer.weight.data)\n",
        "            q_layer_data = q_layer_data.to(device)\n",
        "\n",
        "            layer.weight.data = q_layer_data\n",
        "            layer.weight.scale = scale\n",
        "\n",
        "            if (q_layer_data < -128).any() or (q_layer_data > 127).any():\n",
        "                raise Exception(\"Quantized weights of {} layer include values out of bounds for an 8-bit signed integer\".format(layer.__class__.__name__))\n",
        "            if (q_layer_data != q_layer_data.round()).any():\n",
        "                raise Exception(\"Quantized weights of {} layer include non-integer values\".format(layer.__class__.__name__))\n",
        "\n",
        "quantize_layer_weights(net_q2)"
      ],
      "execution_count": 43,
      "outputs": []
    },
    {
      "cell_type": "code",
      "metadata": {
        "id": "wE3HqeBKVoYR",
        "colab": {
          "base_uri": "https://localhost:8080/"
        },
        "outputId": "7233ec18-62fd-4344-a123-85a49257ea65"
      },
      "source": [
        "score = test(net_q2, testloader)\n",
        "print('Accuracy of the network after quantizing all weights: {}%'.format(score))"
      ],
      "execution_count": 44,
      "outputs": [
        {
          "output_type": "stream",
          "name": "stdout",
          "text": [
            "Accuracy of the network after quantizing all weights: 51.99%\n"
          ]
        }
      ]
    },
    {
      "cell_type": "markdown",
      "metadata": {
        "id": "xg7bfTF1bBVe"
      },
      "source": [
        "# Question 3: Visualize Activations"
      ]
    },
    {
      "cell_type": "code",
      "metadata": {
        "id": "HP587b0QYxe9"
      },
      "source": [
        "def register_activation_profiling_hooks(model: Net):\n",
        "    model.input_activations = np.empty(0)\n",
        "    model.conv1.activations = np.empty(0)\n",
        "    model.conv2.activations = np.empty(0)\n",
        "    model.fc1.activations = np.empty(0)\n",
        "    model.fc2.activations = np.empty(0)\n",
        "    model.fc3.activations = np.empty(0)\n",
        "\n",
        "    model.profile_activations = True\n",
        "\n",
        "    # NOTE: these activations are all profiled by the next layer's forward hook, which\n",
        "    #  means they end up including any ops performed between the last layer's output and this layer's input \n",
        "    #  i.e. anything that was applied AFTER the previous layer was run.., including RELU, Pooling, etc..\n",
        "    #   this is different from what https://arxiv.org/pdf/1712.05877.pdf suggests to do\n",
        "    #   most notably, if we use the same clamping parameters for our activations (which are in the range [0...])\n",
        "    #   and assume there is only a scaling factor (no zeroing variable), then we only utilize half of the 8-bit\n",
        "    #   integer range for many layers\n",
        "    def conv1_activations_hook(layer, x, y):\n",
        "        if model.profile_activations:\n",
        "            model.input_activations = np.append(model.input_activations, x[0].cpu().view(-1))\n",
        "    model.conv1.register_forward_hook(conv1_activations_hook)\n",
        "\n",
        "    def conv2_activations_hook(layer, x, y):\n",
        "        if model.profile_activations:\n",
        "            model.conv1.activations = np.append(model.conv1.activations, x[0].cpu().view(-1))\n",
        "    model.conv2.register_forward_hook(conv2_activations_hook)\n",
        "\n",
        "    def fc1_activations_hook(layer, x, y):\n",
        "        if model.profile_activations:\n",
        "            model.conv2.activations = np.append(model.conv2.activations, x[0].cpu().view(-1))\n",
        "    model.fc1.register_forward_hook(fc1_activations_hook)\n",
        "\n",
        "    def fc2_activations_hook(layer, x, y):\n",
        "        if model.profile_activations:\n",
        "            model.fc1.activations = np.append(model.fc1.activations, x[0].cpu().view(-1))\n",
        "    model.fc2.register_forward_hook(fc2_activations_hook)\n",
        "\n",
        "    def fc3_activations_hook(layer, x, y):\n",
        "        if model.profile_activations:\n",
        "            model.fc2.activations = np.append(model.fc2.activations, x[0].cpu().view(-1))\n",
        "            model.fc3.activations = np.append(model.fc3.activations, y[0].cpu().view(-1))\n",
        "    model.fc3.register_forward_hook(fc3_activations_hook)\n"
      ],
      "execution_count": 45,
      "outputs": []
    },
    {
      "cell_type": "code",
      "metadata": {
        "id": "PVvPCIoabLC7"
      },
      "source": [
        "net_q3 = copy_model(net)\n",
        "register_activation_profiling_hooks(net_q3)\n",
        "\n",
        "# Run through the training dataset again while profiling the input and output activations this time\n",
        "# We don't actually have to perform gradient descent for this, so we can use the \"test\" function\n",
        "test(net_q3, trainloader, max_samples=400)\n",
        "net_q3.profile_activations = False"
      ],
      "execution_count": 46,
      "outputs": []
    },
    {
      "cell_type": "code",
      "metadata": {
        "id": "m1HnYsuAMoxP"
      },
      "source": [
        "input_activations = net_q3.input_activations\n",
        "conv1_output_activations = net_q3.conv1.activations\n",
        "conv2_output_activations = net_q3.conv2.activations\n",
        "fc1_output_activations = net_q3.fc1.activations\n",
        "fc2_output_activations = net_q3.fc2.activations\n",
        "fc3_output_activations = net_q3.fc3.activations"
      ],
      "execution_count": 47,
      "outputs": []
    },
    {
      "cell_type": "code",
      "metadata": {
        "id": "AEo8VK46bwjn",
        "colab": {
          "base_uri": "https://localhost:8080/",
          "height": 1000
        },
        "outputId": "f4f52041-c3ba-4840-bdac-317615557852"
      },
      "source": [
        "activations_all = [\n",
        "    ('input_activations', input_activations),\n",
        "    ('conv1_output_activations', conv1_output_activations),\n",
        "    ('conv2_output_activations', conv2_output_activations),\n",
        "    ('fc1_output_activations', fc1_output_activations),\n",
        "    ('fc2_output_activations', fc2_output_activations),\n",
        "    ('fc3_output_activations', fc3_output_activations),\n",
        "]\n",
        "\n",
        "fig, axes = plt.subplots(nrows=6, figsize=(3,12))\n",
        "def add_activations_plt(title, activations, ax):\n",
        "    ax.hist(\n",
        "        activations,\n",
        "        orientation='horizontal',\n",
        "        bins=20\n",
        "    )\n",
        "    ax.set_title(title)\n",
        "\n",
        "for (title, activations), ax in zip(activations_all, axes):\n",
        "    add_activations_plt(title, activations, ax)\n",
        "\n",
        "fig.set_tight_layout(True)\n",
        "\n",
        "\n",
        "# Plot histograms of the following variables, and calculate their ranges and 3-sigma ranges:\n",
        "#   input_activations\n",
        "#   conv1_output_activations\n",
        "#   conv2_output_activations\n",
        "#   fc1_output_activations\n",
        "#   fc2_output_activations\n",
        "#   fc3_output_activations\n"
      ],
      "execution_count": 48,
      "outputs": [
        {
          "output_type": "display_data",
          "data": {
            "text/plain": [
              "<Figure size 300x1200 with 6 Axes>"
            ],
            "image/png": "[encoded data removed]"
          },
          "metadata": {}
        }
      ]
    },
    {
      "cell_type": "code",
      "source": [
        "def is_3sigma_normal(mean_a, std_a, min_a, max_a):\n",
        "    lower = mean_a - (3*std_a)\n",
        "    upper = mean_a + (3*std_a)\n",
        "    return lower >= min_a and upper <= max_a\n",
        "    \n",
        "def print_3sigma_range(arr: np.ndarray):\n",
        "    min_a, max_a = arr.min(), arr.max()\n",
        "    mean_a, std_a = arr.mean(), arr.std()\n",
        "\n",
        "    ranges = []\n",
        "    dist_descriptor = None\n",
        "\n",
        "    # normal enough\n",
        "    ranges = [mean_a+i*std_a for i in range(-3, 4)]\n",
        "    print(f'3-Sigma Ranges (mean and std based): ')\n",
        "    sigma_bounds = ([lower, upper] for (lower,upper) in zip(reversed(ranges[0:3]), ranges[3:]))\n",
        "    for i, bounds in enumerate(sigma_bounds):\n",
        "        print(f'{i+1}-Sigma Range: {bounds}')\n",
        "    \n",
        "    # not normally distributed.. approximate 3-sigma with quantiles\n",
        "    ranges = list(np.quantile(activations,[0.01, 0.05, 0.32, 0.68, 0.95, 0.99]))\n",
        "    print(f'3-Sigma Ranges (quantile based): ')\n",
        "    sigma_bounds = ([lower, upper] for (lower,upper) in zip(reversed(ranges[0:3]), ranges[3:]))\n",
        "    for i, bounds in enumerate(sigma_bounds):\n",
        "        print(f'{i+1}-Sigma Range: {bounds}')\n",
        "\n",
        "\n",
        "for title, activations in activations_all:\n",
        "    print(title)\n",
        "    print(f'Range [{activations.min()}, {activations.max()}]')\n",
        "    print_3sigma_range(activations)\n",
        "    print()"
      ],
      "metadata": {
        "colab": {
          "base_uri": "https://localhost:8080/"
        },
        "id": "h02Czt1mlOC-",
        "outputId": "caac7561-94f4-4292-b71d-a60c50640c39"
      },
      "execution_count": 49,
      "outputs": [
        {
          "output_type": "stream",
          "name": "stdout",
          "text": [
            "input_activations\n",
            "Range [-1.0, 1.0]\n",
            "3-Sigma Ranges (mean and std based): \n",
            "1-Sigma Range: [-0.5671880301149863, -0.0681121434678578]\n",
            "2-Sigma Range: [-1.0662639167621148, 0.4309637431792708]\n",
            "3-Sigma Range: [-1.5653398034092434, 0.9300396298263993]\n",
            "3-Sigma Ranges (quantile based): \n",
            "1-Sigma Range: [-0.35686272382736206, 0.16862750053405762]\n",
            "2-Sigma Range: [-0.8274509906768799, 0.8274509906768799]\n",
            "3-Sigma Range: [-0.9686274528503418, 0.9921568632125854]\n",
            "\n",
            "conv1_output_activations\n",
            "Range [0.0, 9.410425186157227]\n",
            "3-Sigma Ranges (mean and std based): \n",
            "1-Sigma Range: [-0.22437527643081734, 0.5803743992771331]\n",
            "2-Sigma Range: [-1.0291249521387678, 1.3851240749850835]\n",
            "3-Sigma Range: [-1.8338746278467184, 2.189873750693034]\n",
            "3-Sigma Ranges (quantile based): \n",
            "1-Sigma Range: [0.0, 0.677641580104828]\n",
            "2-Sigma Range: [0.0, 2.2028222084045406]\n",
            "3-Sigma Range: [0.0, 3.578903007507323]\n",
            "\n",
            "conv2_output_activations\n",
            "Range [0.0, 12.050260543823242]\n",
            "3-Sigma Ranges (mean and std based): \n",
            "1-Sigma Range: [-0.4431461282060666, 0.6067416857078908]\n",
            "2-Sigma Range: [-1.4930339421200238, 1.656629499621848]\n",
            "3-Sigma Range: [-2.542921756033981, 2.7065173135358056]\n",
            "3-Sigma Ranges (quantile based): \n",
            "1-Sigma Range: [0.0, 0.5312064504623415]\n",
            "2-Sigma Range: [0.0, 2.8546549320220946]\n",
            "3-Sigma Range: [0.0, 4.574292621612557]\n",
            "\n",
            "fc1_output_activations\n",
            "Range [0.0, 11.483412742614746]\n",
            "3-Sigma Ranges (mean and std based): \n",
            "1-Sigma Range: [-0.47744617069776607, 0.42369245464407157]\n",
            "2-Sigma Range: [-1.3785847960396036, 1.324831079985909]\n",
            "3-Sigma Range: [-2.2797234213814415, 2.225969705327747]\n",
            "3-Sigma Ranges (quantile based): \n",
            "1-Sigma Range: [0.0, 0.048229288756847385]\n",
            "2-Sigma Range: [0.0, 2.3934873938560437]\n",
            "3-Sigma Range: [0.0, 4.12143295764923]\n",
            "\n",
            "fc2_output_activations\n",
            "Range [0.0, 7.102185249328613]\n",
            "3-Sigma Ranges (mean and std based): \n",
            "1-Sigma Range: [-0.3031318525126075, 0.32729105258793206]\n",
            "2-Sigma Range: [-0.9335547576131471, 0.9577139576884717]\n",
            "3-Sigma Range: [-1.5639776627136865, 1.5881368627890111]\n",
            "3-Sigma Ranges (quantile based): \n",
            "1-Sigma Range: [0.0, 0.2008574813604358]\n",
            "2-Sigma Range: [0.0, 1.6821928918361664]\n",
            "3-Sigma Range: [0.0, 2.8618881225586006]\n",
            "\n",
            "fc3_output_activations\n",
            "Range [-7.37038516998291, 9.585631370544434]\n",
            "3-Sigma Ranges (mean and std based): \n",
            "1-Sigma Range: [-2.1377196627846278, 0.05226040720054419]\n",
            "2-Sigma Range: [-4.3276997327698, 2.2422404771857165]\n",
            "3-Sigma Range: [-6.517679802754973, 4.432220547170888]\n",
            "3-Sigma Ranges (quantile based): \n",
            "1-Sigma Range: [-1.0189842462539673, 0.83246422290802]\n",
            "2-Sigma Range: [-3.2120645403862, 3.9592686772346495]\n",
            "3-Sigma Range: [-4.31760470867157, 6.410307369232173]\n",
            "\n"
          ]
        }
      ]
    },
    {
      "cell_type": "markdown",
      "metadata": {
        "id": "haiPVx4ibEra"
      },
      "source": [
        "# Question 4: Quantize Activations"
      ]
    },
    {
      "cell_type": "code",
      "metadata": {
        "id": "zLjSp7hsXofq"
      },
      "source": [
        "from typing import List\n",
        "\n",
        "class NetQuantized(nn.Module):\n",
        "    def __init__(self, net_with_weights_quantized: nn.Module):\n",
        "        super(NetQuantized, self).__init__()\n",
        "        \n",
        "        net_init = copy_model(net_with_weights_quantized)\n",
        "\n",
        "        self.conv1 = net_init.conv1\n",
        "        self.pool = net_init.pool\n",
        "        self.conv2 = net_init.conv2\n",
        "        self.fc1 = net_init.fc1\n",
        "        self.fc2 = net_init.fc2\n",
        "        self.fc3 = net_init.fc3\n",
        "\n",
        "        for layer in self.conv1, self.conv2, self.fc1, self.fc2, self.fc3:\n",
        "            def pre_hook(l, x):\n",
        "                x = x[0]\n",
        "                if (x < -128).any() or (x > 127).any():\n",
        "                    raise Exception(\"Input to {} layer is out of bounds for an 8-bit signed integer\".format(l.__class__.__name__))\n",
        "                if (x != x.round()).any():\n",
        "                    raise Exception(\"Input to {} layer has non-integer values\".format(l.__class__.__name__))\n",
        "\n",
        "            layer.register_forward_pre_hook(pre_hook)\n",
        "\n",
        "        # Calculate the scaling factor for the initial input to the CNN\n",
        "        self.input_activations = net_with_weights_quantized.input_activations\n",
        "        self.input_scale = NetQuantized.quantize_initial_input(self.input_activations)\n",
        "\n",
        "        # Calculate the output scaling factors for all the layers of the CNN\n",
        "        preceding_layer_scales = []\n",
        "        for layer in self.conv1, self.conv2, self.fc1, self.fc2, self.fc3:\n",
        "            layer.output_scale = NetQuantized.quantize_activations(layer.activations, layer.weight.scale, self.input_scale, preceding_layer_scales)\n",
        "            preceding_layer_scales.append((layer.weight.scale, layer.output_scale))\n",
        "\n",
        "    @staticmethod\n",
        "    def quantize_initial_input(pixels: np.ndarray) -> float:\n",
        "        '''\n",
        "        Calculate a scaling factor for the images that are input to the first layer of the CNN.\n",
        "\n",
        "        Parameters:\n",
        "        pixels (ndarray): The values of all the pixels which were part of the input image during training\n",
        "\n",
        "        Returns:\n",
        "        float: A scaling factor that the input should be multiplied by before being fed into the first layer.\n",
        "               This value does not need to be an 8-bit integer.\n",
        "        '''\n",
        "         # again, using restricted range rather than full range in order to preserve relative values of weights (avoid clipping positive values that would map to 128)\n",
        "        return 127.0 / np.abs(pixels).max()\n",
        "\n",
        "    @staticmethod\n",
        "    def quantize_activations(activations: np.ndarray, n_w: float, n_initial_input: float, ns: List[Tuple[float, float]]) -> float:\n",
        "        '''\n",
        "        Calculate a scaling factor to multiply the output of a layer by.\n",
        "\n",
        "        Parameters:\n",
        "        activations (ndarray): The values of all the pixels which have been output by this layer during training\n",
        "        n_w (float): The scale by which the weights of this layer were multiplied as part of the \"quantize_weights\" function you wrote earlier\n",
        "        n_initial_input (float): The scale by which the initial input to the neural network was multiplied\n",
        "        ns ([(float, float)]): A list of tuples, where each tuple represents the \"weight scale\" and \"output scale\" (in that order) for every preceding layer\n",
        "\n",
        "        Returns:\n",
        "        float: A scaling factor that the layer output should be multiplied by before being fed into the first layer.\n",
        "               This value does not need to be an 8-bit integer.\n",
        "        '''\n",
        "        # our scales (q=s*r) are inverted relative to what is in the paper (r=q*s), which gives\n",
        "        #  the scaling formula as:\n",
        "        # q3 = S3/(S1*S2) * (q1*q2), where\n",
        "        #  S1 - the scaling factor such that q1 = S1*r1\n",
        "        #  S2 - the scaling factor such that q2 = S2*r2\n",
        "        #  S3 - the scaling factor such that q3 = S3*r3\n",
        "        # M = S3/(S1*S2)\n",
        "\n",
        "        print_debug = False\n",
        "        # ADD YOUR CODE HERE\n",
        "        if print_debug:\n",
        "            print('quantize_activations')\n",
        "            print('n_w: ', n_w)\n",
        "            print('n_initial_input: ', n_initial_input)\n",
        "            print('ns: ', ns)\n",
        "            print('activations: ', activations.min(), activations.max())\n",
        "\n",
        "        s1 = n_w\n",
        "        s3 = 127.0/np.abs(activations).max()\n",
        "\n",
        "        # finally, we need to get the prior activation's scaler\n",
        "        #  which can be calculated from the input scaler and the weights/output scaler\n",
        "        #  from the prior layers\n",
        "        # M_k = S3_k / (S1_k * S2_k-1) = S3_k / (S1_k * S2_input * prod( M_i*S1_i for i from 1 to k-1))\n",
        "        #  and converted to our terms,\n",
        "        # output_scale_k = activations_scale_k / (weights_scale_k * activations_scale_k-1)\n",
        "        #    = activations_scale_k / (weights_scale_k * activations_scale_input * prod(weights_scale_i*output_scale_i for i from 1 to k-1)) \n",
        "        # so, S2_k-1 = activations_scale_input * prod(weights_scale_i*output_scale_i for i from 1 to k-1))\n",
        "        \n",
        "        s2 = n_initial_input * torch.prod(torch.tensor([w_scale*o_scale for w_scale,o_scale in ns]))\n",
        "\n",
        "        output_scale = s3 / (s1*s2)\n",
        "        if True: # make sure we will reproduce S3 as the next layer's S2 value.. this is trivial, but for a sanity check, do it\n",
        "            tol = 1e-4\n",
        "            sim_next_s2 = output_scale * s1 * s2\n",
        "            if abs(sim_next_s2-s3) > tol:\n",
        "                raise ValueError(f'expected sim_next_s2 ({sim_next_s2}) to be close to this layers s3 ({s3})')\n",
        "\n",
        "        if print_debug:\n",
        "            print(f'output_scale = activations_scale / (weights_scale * previous_activations_scale) = {s3} / ({s1} * {s2}) = {output_scale}')\n",
        "\n",
        "        return output_scale\n",
        "\n",
        "    @staticmethod\n",
        "    def scale_round_and_clamp(x: torch.Tensor, scale, lower_bound, upper_bound) -> torch.Tensor:\n",
        "        x = (x*scale).round()\n",
        "        x = torch.clamp(x, min=lower_bound, max=upper_bound)\n",
        "        return x\n",
        "\n",
        "    def forward(self, x: torch.Tensor) -> torch.Tensor:\n",
        "        # NOTE: see NOTE in the function register_activation_profiling_hooks for \n",
        "        #  more detail about when to apply scales based on when the activations are being\n",
        "        #  profiled\n",
        "\n",
        "        # You can access the output activation scales like this:\n",
        "        #   fc1_output_scale = self.fc1.output_scale\n",
        "\n",
        "        # To make sure that the outputs of each layer are integers between -128 and 127, you may need to use the following functions:\n",
        "        #   * torch.Tensor.round\n",
        "        #   * torch.clamp\n",
        "        lower_bound, upper_bound = -128, 127\n",
        "        x = NetQuantized.scale_round_and_clamp(x, self.input_scale, lower_bound, upper_bound)\n",
        "\n",
        "        # conv1\n",
        "        x = self.pool(F.relu(self.conv1(x)))\n",
        "        x = NetQuantized.scale_round_and_clamp(x, self.conv1.output_scale, lower_bound, upper_bound)\n",
        "        \n",
        "        # conv2\n",
        "        x = self.pool(F.relu(self.conv2(x)))\n",
        "        x = NetQuantized.scale_round_and_clamp(x, self.conv2.output_scale, lower_bound, upper_bound)\n",
        "        \n",
        "        # fc1\n",
        "        x = x.view(-1, 16 * 5 * 5)\n",
        "        x = F.relu(self.fc1(x))\n",
        "        x = NetQuantized.scale_round_and_clamp(x, self.fc1.output_scale, lower_bound, upper_bound)\n",
        "\n",
        "        # fc2\n",
        "        x = F.relu(self.fc2(x))\n",
        "        x = NetQuantized.scale_round_and_clamp(x, self.fc2.output_scale, lower_bound, upper_bound)\n",
        "\n",
        "        # fc3\n",
        "        x = self.fc3(x)\n",
        "        # TODO: should we be doing this here??? it means we will be returning a quantized output.. but \n",
        "        #  do we want to return the real output, which implies only partially applying the output scale? i.e. S1*S2 but not dividing by S3??\n",
        "        # x = NetQuantized.scale_round_and_clamp(x, self.fc3.output_scale, lower_bound, upper_bound)\n",
        "\n",
        "        return x"
      ],
      "execution_count": 50,
      "outputs": []
    },
    {
      "cell_type": "code",
      "metadata": {
        "id": "13CpHgvE994J"
      },
      "source": [
        "# Merge the information from net_q2 and net_q3 together\n",
        "net_init = copy_model(net_q2)\n",
        "net_init.input_activations = deepcopy(net_q3.input_activations)\n",
        "for layer_init, layer_q3 in zip(net_init.children(), net_q3.children()):\n",
        "    if isinstance(layer_init, nn.Conv2d) or isinstance(layer_init, nn.Linear):\n",
        "        layer_init.activations = deepcopy(layer_q3.activations)\n",
        "\n",
        "net_quantized = NetQuantized(net_init)"
      ],
      "execution_count": 51,
      "outputs": []
    },
    {
      "cell_type": "code",
      "metadata": {
        "id": "VcBXEodN6hrY",
        "colab": {
          "base_uri": "https://localhost:8080/"
        },
        "outputId": "a062e613-c732-49cc-ce4a-09378c530b95"
      },
      "source": [
        "score = test(net_quantized, testloader)\n",
        "print('Accuracy of the network after quantizing both weights and activations: {}%'.format(score))"
      ],
      "execution_count": 52,
      "outputs": [
        {
          "output_type": "stream",
          "name": "stdout",
          "text": [
            "Accuracy of the network after quantizing both weights and activations: 51.88%\n"
          ]
        }
      ]
    },
    {
      "cell_type": "markdown",
      "metadata": {
        "id": "1jTOL7scbMs7"
      },
      "source": [
        "# Question 5: Quantize Biases"
      ]
    },
    {
      "cell_type": "code",
      "metadata": {
        "id": "bvv9-k1HPbgz"
      },
      "source": [
        "class NetWithBias(nn.Module):\n",
        "    def __init__(self):\n",
        "        super(NetWithBias, self).__init__()\n",
        "\n",
        "        self.conv1 = nn.Conv2d(3, 6, 5, bias=False)\n",
        "        self.pool = nn.MaxPool2d(2, 2)\n",
        "        self.conv2 = nn.Conv2d(6, 16, 5, bias=False)\n",
        "        self.fc1 = nn.Linear(16 * 5 * 5, 120, bias=False)\n",
        "        self.fc2 = nn.Linear(120, 84, bias=False)\n",
        "        self.fc3 = nn.Linear(84, 10, bias=True)\n",
        "\n",
        "    def forward(self, x: torch.Tensor) -> torch.Tensor:\n",
        "        x = self.pool(F.relu(self.conv1(x)))\n",
        "        x = self.pool(F.relu(self.conv2(x)))\n",
        "        x = x.view(-1, 16 * 5 * 5)\n",
        "        x = F.relu(self.fc1(x))\n",
        "        x = F.relu(self.fc2(x))\n",
        "        x = self.fc3(x)\n",
        "        return x\n",
        "\n",
        "net_with_bias = NetWithBias().to(device)"
      ],
      "execution_count": 53,
      "outputs": []
    },
    {
      "cell_type": "code",
      "metadata": {
        "id": "wjk3hEQaVDpq",
        "colab": {
          "base_uri": "https://localhost:8080/"
        },
        "outputId": "c4baa7ce-7c5e-49e2-d1f5-a1ca72bee003"
      },
      "source": [
        "train(net_with_bias, trainloader)"
      ],
      "execution_count": 54,
      "outputs": [
        {
          "output_type": "stream",
          "name": "stdout",
          "text": [
            "[1,  2000] loss: 2.236\n",
            "[1,  4000] loss: 1.870\n",
            "[1,  6000] loss: 1.663\n",
            "[1,  8000] loss: 1.595\n",
            "[1, 10000] loss: 1.523\n",
            "[1, 12000] loss: 1.497\n",
            "[2,  2000] loss: 1.428\n",
            "[2,  4000] loss: 1.396\n",
            "[2,  6000] loss: 1.365\n",
            "[2,  8000] loss: 1.337\n",
            "[2, 10000] loss: 1.324\n",
            "[2, 12000] loss: 1.303\n",
            "Finished Training\n"
          ]
        }
      ]
    },
    {
      "cell_type": "code",
      "metadata": {
        "id": "9vLUCDnnVf4R",
        "colab": {
          "base_uri": "https://localhost:8080/"
        },
        "outputId": "3d5503fa-d3d2-46bf-9302-548518db35bb"
      },
      "source": [
        "score = test(net_with_bias, testloader)\n",
        "print('Accuracy of the network (with a bias) on the test images: {}%'.format(score))"
      ],
      "execution_count": 55,
      "outputs": [
        {
          "output_type": "stream",
          "name": "stdout",
          "text": [
            "Accuracy of the network (with a bias) on the test images: 52.64%\n"
          ]
        }
      ]
    },
    {
      "cell_type": "code",
      "metadata": {
        "id": "U_ZiJk6yEEM-"
      },
      "source": [
        "register_activation_profiling_hooks(net_with_bias)\n",
        "test(net_with_bias, trainloader, max_samples=400)\n",
        "net_with_bias.profile_activations = False"
      ],
      "execution_count": 56,
      "outputs": []
    },
    {
      "cell_type": "code",
      "metadata": {
        "id": "yZwk8KLtAUAM",
        "colab": {
          "base_uri": "https://localhost:8080/"
        },
        "outputId": "11678ac8-3103-46ba-840e-89d07f2bd1d9"
      },
      "source": [
        "net_with_bias_with_quantized_weights = copy_model(net_with_bias)\n",
        "quantize_layer_weights(net_with_bias_with_quantized_weights)\n",
        "\n",
        "score = test(net_with_bias_with_quantized_weights, testloader)\n",
        "print('Accuracy of the network on the test images after all the weights are quantized but the bias isn\\'t: {}%'.format(score))"
      ],
      "execution_count": 57,
      "outputs": [
        {
          "output_type": "stream",
          "name": "stdout",
          "text": [
            "Accuracy of the network on the test images after all the weights are quantized but the bias isn't: 52.77%\n"
          ]
        }
      ]
    },
    {
      "cell_type": "code",
      "metadata": {
        "id": "mO2Gdu_tEZ4v"
      },
      "source": [
        "class NetQuantizedWithBias(NetQuantized):\n",
        "    def __init__(self, net_with_weights_quantized: nn.Module):\n",
        "        super(NetQuantizedWithBias, self).__init__(net_with_weights_quantized)\n",
        "\n",
        "        preceding_scales = [(layer.weight.scale, layer.output_scale) for layer in self.children() if isinstance(layer, nn.Conv2d) or isinstance(layer, nn.Linear)][:-1]\n",
        "\n",
        "        self.fc3.bias.data = NetQuantizedWithBias.quantized_bias(\n",
        "            self.fc3.bias.data,\n",
        "            self.fc3.weight.scale,\n",
        "            self.input_scale,\n",
        "            preceding_scales\n",
        "        )\n",
        "\n",
        "        if (self.fc3.bias.data < -2147483648).any() or (self.fc3.bias.data > 2147483647).any():\n",
        "            raise Exception(\"Bias has values which are out of bounds for an 32-bit signed integer\")\n",
        "        if (self.fc3.bias.data != self.fc3.bias.data.round()).any():\n",
        "            raise Exception(\"Bias has non-integer values\")\n",
        "\n",
        "    @staticmethod\n",
        "    def quantized_bias(bias: torch.Tensor, n_w: float, n_initial_input: float, ns: List[Tuple[float, float]]) -> torch.Tensor:\n",
        "        '''\n",
        "        Quantize the bias so that all values are integers between -2147483648 and 2147483647.\n",
        "\n",
        "        Parameters:\n",
        "        bias (Tensor): The floating point values of the bias\n",
        "        n_w (float): The scale by which the weights of this layer were multiplied\n",
        "        n_initial_input (float): The scale by which the initial input to the neural network was multiplied\n",
        "        ns ([(float, float)]): A list of tuples, where each tuple represents the \"weight scale\" and \"output scale\" (in that order) for every preceding layer\n",
        "\n",
        "        Returns:\n",
        "        Tensor: The bias in quantized form, where every value is an integer between -2147483648 and 2147483647.\n",
        "                The \"dtype\" will still be \"float\", but the values themselves should all be integers.\n",
        "        '''\n",
        "        # the scale for bias should match the scale used for the matrix multiplication of\n",
        "        #  the weights and the input activations\n",
        "        #  since our weights are inverses (see notes in function to calculate activation weights),\n",
        "        #  \n",
        "        # \n",
        "        #  to get the scaling from the matrix multiplication of the weights and the input activations,\n",
        "        #    we can use our formula for the output scale M = S3/(S1*S2), where we know 1/(S1*S2)\n",
        "        #    represents our scale for the matrix multiplication alone.\n",
        "        #  so our scale to get from quantized numbers to real numbers would be 1/(S1*S2)\n",
        "        #    and our scale to get from real numbers to quantized numbers will be S1*S2\n",
        "        #  in our terms, weights_scale*previous_activations_scale\n",
        "        #  so we need to calculate previous_activations_scale, as we did in the process of calculating output scales\n",
        "        full_range = 2^32\n",
        "        lower_bound, upper_bound = -full_range/2, (full_range/2) - 1\n",
        "        print_debug = False\n",
        "        previous_activations_scale = n_initial_input * torch.prod(torch.tensor([w_scale*o_scale for w_scale,o_scale in ns]))\n",
        "        bias_scale = n_w * previous_activations_scale\n",
        "        if print_debug:\n",
        "            print('lower_bound and upper_bound for clamp: ', lower_bound, upper_bound)\n",
        "            print('previous_activations_scale: ', previous_activations_scale)\n",
        "            print('weights_scale: ', n_w)\n",
        "            print('bias_scale: ', bias_scale)\n",
        "        q_bias = NetQuantizedWithBias.scale_round_and_clamp(bias, bias_scale, lower_bound, upper_bound)\n",
        "        \n",
        "        return q_bias"
      ],
      "execution_count": 58,
      "outputs": []
    },
    {
      "cell_type": "code",
      "metadata": {
        "id": "TA6rXt3Q-zF8"
      },
      "source": [
        "net_quantized_with_bias = NetQuantizedWithBias(net_with_bias_with_quantized_weights)"
      ],
      "execution_count": 59,
      "outputs": []
    },
    {
      "cell_type": "code",
      "metadata": {
        "id": "UJvR6Wv_GJJX",
        "colab": {
          "base_uri": "https://localhost:8080/"
        },
        "outputId": "5559561c-e227-4105-de62-a99d9af6d8a7"
      },
      "source": [
        "score = test(net_quantized_with_bias, testloader)\n",
        "print('Accuracy of the network on the test images after all the weights and the bias are quantized: {}%'.format(score))"
      ],
      "execution_count": 60,
      "outputs": [
        {
          "output_type": "stream",
          "name": "stdout",
          "text": [
            "Accuracy of the network on the test images after all the weights and the bias are quantized: 52.86%\n"
          ]
        }
      ]
    }
  ]
}